{
 "cells": [
  {
   "cell_type": "code",
   "execution_count": 46,
   "metadata": {},
   "outputs": [],
   "source": [
    "import polars as pl\n",
    "import json\n",
    "import numpy as np"
   ]
  },
  {
   "cell_type": "code",
   "execution_count": 40,
   "metadata": {},
   "outputs": [],
   "source": [
    "# load in player 1 policy\n",
    "p1 = open('./policies/logs_582023_19237/readable_policy_p1.txt')\n",
    "p1 = json.load(p1)"
   ]
  },
  {
   "cell_type": "code",
   "execution_count": 41,
   "metadata": {},
   "outputs": [
    {
     "name": "stdout",
     "output_type": "stream",
     "text": [
      "['[1. 0. 0. 0. 0. 0. 0. 0. 0.]', '[0. 1. 0. 0. 0. 0. 0. 0. 0.]', '[0. 0. 1. 0. 0. 0. 0. 0. 0.]', '[0. 0. 0. 1. 0. 0. 0. 0. 0.]', '[0. 0. 0. 0. 1. 0. 0. 0. 0.]', '[0. 0. 0. 0. 0. 1. 0. 0. 0.]', '[0. 0. 0. 0. 0. 0. 1. 0. 0.]', '[0. 0. 0. 0. 0. 0. 0. 1. 0.]', '[0. 0. 0. 0. 0. 0. 0. 0. 1.]']\n"
     ]
    }
   ],
   "source": [
    "base = \"[0. 0. 0. 0. 0. 0. 0. 0. 0.]\"\n",
    "all = []\n",
    "for i in range(1, len(base), 3):\n",
    "  tmp = base\n",
    "  tmp = tmp[:i] + '1' + tmp[i+1:]\n",
    "  all.append(tmp)\n",
    "   \n",
    "print(all)"
   ]
  },
  {
   "cell_type": "code",
   "execution_count": 44,
   "metadata": {},
   "outputs": [],
   "source": [
    "stateOne = {}\n",
    "for key in p1:\n",
    "  if key in all: stateOne[key] = p1[key]"
   ]
  },
  {
   "cell_type": "code",
   "execution_count": 62,
   "metadata": {},
   "outputs": [
    {
     "name": "stdout",
     "output_type": "stream",
     "text": [
      "#  0.21|0.17|0.25\n",
      "#  ----+----+----\n",
      "#  0.18|0.39|0.25\n",
      "#  ----+----+----\n",
      "#  0.24|0.23|0.20\n"
     ]
    }
   ],
   "source": [
    "print(f\"#  {stateOne['[1. 0. 0. 0. 0. 0. 0. 0. 0.]']:.2f}|{stateOne['[0. 1. 0. 0. 0. 0. 0. 0. 0.]']:.2f}|{stateOne['[0. 0. 1. 0. 0. 0. 0. 0. 0.]']:.2f}\")\n",
    "print(f\"#  ----+----+----\")\n",
    "print(f\"#  {stateOne['[0. 0. 0. 1. 0. 0. 0. 0. 0.]']:.2f}|{stateOne['[0. 0. 0. 0. 1. 0. 0. 0. 0.]']:.2f}|{stateOne['[0. 0. 0. 0. 0. 1. 0. 0. 0.]']:.2f}\")\n",
    "print(f\"#  ----+----+----\")\n",
    "print(f\"#  {stateOne['[0. 0. 0. 0. 0. 0. 1. 0. 0.]']:.2f}|{stateOne['[0. 0. 0. 0. 0. 0. 0. 1. 0.]']:.2f}|{stateOne['[0. 0. 0. 0. 0. 0. 0. 0. 1.]']:.2f}\")\n"
   ]
  },
  {
   "cell_type": "code",
   "execution_count": null,
   "metadata": {},
   "outputs": [],
   "source": [
    "# ok I want to make a display starting from player 1 to the end of the game where best move is green and worst move is red and everyting else is gradually in between"
   ]
  }
 ],
 "metadata": {
  "kernelspec": {
   "display_name": "base",
   "language": "python",
   "name": "python3"
  },
  "language_info": {
   "codemirror_mode": {
    "name": "ipython",
    "version": 3
   },
   "file_extension": ".py",
   "mimetype": "text/x-python",
   "name": "python",
   "nbconvert_exporter": "python",
   "pygments_lexer": "ipython3",
   "version": "3.8.3"
  },
  "orig_nbformat": 4
 },
 "nbformat": 4,
 "nbformat_minor": 2
}
