{
 "cells": [
  {
   "cell_type": "markdown",
   "metadata": {},
   "source": [
    "# Prelude"
   ]
  },
  {
   "cell_type": "code",
   "execution_count": 2,
   "metadata": {},
   "outputs": [],
   "source": [
    "import matplotlib.pyplot as plt\n",
    "import json\n",
    "import numpy as np"
   ]
  },
  {
   "cell_type": "code",
   "execution_count": null,
   "metadata": {},
   "outputs": [],
   "source": [
    "# load in player 1 policy\n",
    "p1 = open('./policies/logs_582023_19237/readable_policy_p1.txt')\n",
    "p1 = json.load(p1)"
   ]
  },
  {
   "cell_type": "code",
   "execution_count": null,
   "metadata": {},
   "outputs": [],
   "source": [
    "base = \"[0. 0. 0. 0. 0. 0. 0. 0. 0.]\"\n",
    "all = []\n",
    "for i in range(1, len(base), 3):\n",
    "  tmp = base\n",
    "  tmp = tmp[:i] + '1' + tmp[i+1:]\n",
    "  all.append(tmp)\n",
    "   \n",
    "stateOne = {}\n",
    "for key in p1:\n",
    "  if key in all: stateOne[key] = p1[key]"
   ]
  },
  {
   "cell_type": "code",
   "execution_count": null,
   "metadata": {},
   "outputs": [],
   "source": [
    "print(f\"#  {stateOne['[1. 0. 0. 0. 0. 0. 0. 0. 0.]']:.2f}|{stateOne['[0. 1. 0. 0. 0. 0. 0. 0. 0.]']:.2f}|{stateOne['[0. 0. 1. 0. 0. 0. 0. 0. 0.]']:.2f}\")\n",
    "print(f\"#  ----+----+----\")\n",
    "print(f\"#  {stateOne['[0. 0. 0. 1. 0. 0. 0. 0. 0.]']:.2f}|{stateOne['[0. 0. 0. 0. 1. 0. 0. 0. 0.]']:.2f}|{stateOne['[0. 0. 0. 0. 0. 1. 0. 0. 0.]']:.2f}\")\n",
    "print(f\"#  ----+----+----\")\n",
    "print(f\"#  {stateOne['[0. 0. 0. 0. 0. 0. 1. 0. 0.]']:.2f}|{stateOne['[0. 0. 0. 0. 0. 0. 0. 1. 0.]']:.2f}|{stateOne['[0. 0. 0. 0. 0. 0. 0. 0. 1.]']:.2f}\")\n"
   ]
  },
  {
   "cell_type": "markdown",
   "metadata": {},
   "source": [
    "ok I want to make a display starting from player 1 to the end of the game where best move is green and worst move is red and everyting else is gradually in between"
   ]
  },
  {
   "cell_type": "code",
   "execution_count": null,
   "metadata": {},
   "outputs": [],
   "source": [
    "# Extract values from the dictionary and reshape into a 3x3 grid\n",
    "values = np.array(list(stateOne.values())).reshape(3, 3)\n",
    "print(values)\n",
    "\n",
    "# Create the heatmap with color spectrum\n",
    "plt.imshow(values, cmap='RdYlGn', vmin=np.min(values), vmax=np.max(values))\n",
    "\n",
    "# optionally show colorbar to indicate the value range\n",
    "plt.colorbar()\n",
    "\n",
    "# Add the percentages inside each cell\n",
    "for i in range(3):\n",
    "    for j in range(3):\n",
    "        plt.text(j, i, f\"{values[i, j]:.2f}\", ha='center', va='center', color='black', fontsize=15)\n",
    "\n",
    "# Set the axis labels\n",
    "plt.xticks(range(3), ['0', '1', '2'])\n",
    "plt.yticks(range(3), ['0', '1', '2'])\n",
    "\n",
    "# Show the plot\n",
    "plt.show()"
   ]
  },
  {
   "cell_type": "markdown",
   "metadata": {},
   "source": [
    "# The Real Beef"
   ]
  },
  {
   "cell_type": "code",
   "execution_count": 3,
   "metadata": {},
   "outputs": [],
   "source": [
    "# loading p1/p2 policies to simulate a game between 2 bots\n",
    "# p1 p2 p1 p2 p1 p2 p1 p2 p1\n",
    "\n",
    "### some cleaning to the files had to be done to run the analysis\n",
    "# - replace all double quote followed by space with double quote\n",
    "# - replace all two spaces with one space\n",
    "# - replace all square bracket followed by space with square bracket\n",
    "\n",
    "p1 = json.load(open('./policies/logs_582023_19237/readable_policy_p1.txt'))\n",
    "p2 = json.load(open('./policies/logs_582023_19237/readable_policy_p2.txt'))"
   ]
  },
  {
   "cell_type": "code",
   "execution_count": 4,
   "metadata": {},
   "outputs": [],
   "source": [
    "# we want generate all possibile positions from base, then select max, then repeat\n",
    "# this way we get the 'ideal' game effectively\n",
    "board = np.array([0., 0., 0., 0., 0., 0., 0., 0., 0.])\n",
    "\n",
    "states = {}\n",
    "\n",
    "counter = 0\n",
    "while(counter < 9):\n",
    "  policy = p2\n",
    "  mark = '-1'\n",
    "  if counter % 2 == 0:\n",
    "    policy = p1\n",
    "    mark = '1'\n",
    "  \n",
    "  tmp_dict = {}\n",
    "  for i in range(0, len(str(board))):\n",
    "    if str(board)[i] == '0':\n",
    "      tmp = str(board)\n",
    "      tmp = tmp[:i] + mark + tmp[i+1:]\n",
    "      tmp_dict[tmp] = policy[tmp]\n",
    "  states[f\"{counter}\"] = tmp_dict\n",
    "  board = max(tmp_dict, key=tmp_dict.get)\n",
    "  counter += 1\n",
    "\n",
    "# Serializing json  \n",
    "jsonObj = json.dumps(states, indent=4)\n",
    "with open(\"states.json\", \"wt\") as outfile:\n",
    "    outfile.write(jsonObj)"
   ]
  },
  {
   "cell_type": "code",
   "execution_count": 13,
   "metadata": {},
   "outputs": [],
   "source": [
    "def heatMap(stateOne):\n",
    "  # Extract values from the dictionary and reshape into a 3x3 grid\n",
    "  values = np.array(list(stateOne.values())).reshape(3, 3)\n",
    "  print(values)\n",
    "\n",
    "  # Create the heatmap with color spectrum\n",
    "  plt.imshow(values, cmap='RdYlGn', vmin=np.min(values), vmax=np.max(values))\n",
    "\n",
    "  # optionally show colorbar to indicate the value range\n",
    "  plt.colorbar()\n",
    "\n",
    "  # Add the percentages inside each cell\n",
    "  for i in range(3):\n",
    "      for j in range(3):\n",
    "          plt.text(j, i, f\"{values[i, j]:.2f}\", ha='center', va='center', color='black', fontsize=15)\n",
    "\n",
    "  # Set the axis labels\n",
    "  plt.xticks(range(3), ['0', '1', '2'])\n",
    "  plt.yticks(range(3), ['0', '1', '2'])\n",
    "\n",
    "  # Show the plot\n",
    "  plt.show()\n",
    "  return None"
   ]
  },
  {
   "cell_type": "code",
   "execution_count": 5,
   "metadata": {},
   "outputs": [],
   "source": [
    "f = open(\"./states.json\")\n",
    "jsonObj = json.load(f)\n",
    "f.close()"
   ]
  },
  {
   "cell_type": "code",
   "execution_count": 16,
   "metadata": {},
   "outputs": [
    {
     "name": "stdout",
     "output_type": "stream",
     "text": [
      "[[0.20579203 0.16986053 0.25255064]\n",
      " [0.18208539 0.39372238 0.24982597]\n",
      " [0.24366662 0.23104658 0.1961919 ]]\n"
     ]
    },
    {
     "data": {
      "image/png": "[encoded data removed]",
      "text/plain": [
       "<Figure size 640x480 with 2 Axes>"
      ]
     },
     "metadata": {},
     "output_type": "display_data"
    }
   ],
   "source": [
    "heatMap(jsonObj['0'])"
   ]
  }
 ],
 "metadata": {
  "kernelspec": {
   "display_name": "base",
   "language": "python",
   "name": "python3"
  },
  "language_info": {
   "codemirror_mode": {
    "name": "ipython",
    "version": 3
   },
   "file_extension": ".py",
   "mimetype": "text/x-python",
   "name": "python",
   "nbconvert_exporter": "python",
   "pygments_lexer": "ipython3",
   "version": "3.9.2"
  },
  "orig_nbformat": 4
 },
 "nbformat": 4,
 "nbformat_minor": 2
}
