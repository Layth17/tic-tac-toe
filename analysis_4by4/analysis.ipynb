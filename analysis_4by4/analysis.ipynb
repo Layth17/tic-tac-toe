{
 "cells": [
  {
   "cell_type": "code",
   "execution_count": 13,
   "metadata": {},
   "outputs": [],
   "source": [
    "import matplotlib.pyplot as plt\n",
    "import json\n",
    "import numpy as np\n",
    "import ast"
   ]
  },
  {
   "cell_type": "code",
   "execution_count": 29,
   "metadata": {},
   "outputs": [
    {
     "data": {
      "text/plain": [
       "31000000"
      ]
     },
     "execution_count": 29,
     "metadata": {},
     "output_type": "execute_result"
    }
   ],
   "source": [
    "# file = open(\"../policies/4/logs_1382023_171526/board.txt\") # unique games: 31113, iter: 200,000\n",
    "\n",
    "file1 = open(\"../policies/4/logs_1382023_19937/board.txt\")\n",
    "file2 = open(\"../policies/4/logs_1382023_215016/board.txt\")\n",
    "file3 = open(\"../policies/4/logs_1482023_134039/board.txt\")\n",
    "file4 = open(\"../policies/4/logs_1482023_174833/board.txt\") \n",
    "file5 = open(\"../policies/4/logs_1482023_23645/board.txt\") # p2's exp_rate = .6\n",
    "games = {}\n",
    "\n",
    "content = []\n",
    "content.extend(file1.readlines()) # total: 0,000,000:0,500,000 --- compound unique: 051,235 --- new unique: 51,235\n",
    "content.extend(file2.readlines()) # total: 0,500,000:1,000,000 --- compound unique: 071,920 --- new unique: 20,685\n",
    "content.extend(file3.readlines()) # total: 1,000,000:2,000,000 --- compound unique: 099,121 --- new unique: 27,201\n",
    "content.extend(file4.readlines()) # total: 2,000,000:3,000,000 --- compound unique: 118,648 --- new unique: 19,627\n",
    "content.extend(file5.readlines()) # total: 3,000,000:3,100,000 --- compound unique: 123,701 --- new unique: 05,053\n",
    "\n",
    "len(content)"
   ]
  },
  {
   "cell_type": "code",
   "execution_count": 30,
   "metadata": {},
   "outputs": [
    {
     "name": "stdout",
     "output_type": "stream",
     "text": [
      "total games: 3100000\n",
      "unique games: 123701\n"
     ]
    }
   ],
   "source": [
    "for i in range(0, len(content), 10):\n",
    "  key = str(content[i:i+10])\n",
    "  if key in games: games[key] += 1\n",
    "  else: games[key] = 1\n",
    "  \n",
    "# verify that there are 50,000 games, or however many you expect\n",
    "total_games = 0\n",
    "unique_games = 0\n",
    "for _, value in games.items():\n",
    "  unique_games += 1\n",
    "  total_games += value\n",
    "print(\"total games:\", total_games)\n",
    "print(\"unique games:\", unique_games)\n",
    "\n",
    "# Serializing json  \n",
    "jsonObj = json.dumps(games, indent=4)\n",
    "with open(\"games.json\", \"wt\") as outfile:\n",
    "    outfile.write(jsonObj)"
   ]
  },
  {
   "cell_type": "markdown",
   "metadata": {},
   "source": [
    "In 3x3 games, .017 of games were unique. If we follow a similar pattern, we need about 2,000,000 games to reach the same proportion.\n",
    "500,000 iterations took 2 hours of training.\n",
    "\n",
    "\n",
    "well, it turned out there are actually more unique games being discovered. This might need to be 5,000,000 iterations.\n",
    "\n",
    "It is noticablly true that p2 is really good. It might be the case that p1 is at a heavy disadvantage here and is unable to explore new positions as a result.\n",
    "I might need to increase the exploration rate of p2.\n",
    "\n",
    "Another fundemental issue is that there is just far too many combinations and it is not enough to see each combination once. Each combination has to be explored thoroughly. The method of learning I am using is absolutely inefficent for this endeavour. There is an upper limit of about 3^16 = 43 million board combinations."
   ]
  },
  {
   "cell_type": "markdown",
   "metadata": {},
   "source": []
  },
  {
   "cell_type": "code",
   "execution_count": 31,
   "metadata": {},
   "outputs": [],
   "source": [
    "board = np.array([0., 0., 0., 0., 0., 0., 0., 0., 0., 0., 0., 0., 0., 0., 0., 0.])\n",
    "file = json.load(open(\"../policies/4/logs_1482023_23645/readable_policy_p1.txt\"))\n",
    "\n",
    "states = {}\n",
    "for i in range(len(board)):\n",
    "  tmp = np.copy(board)\n",
    "  tmp[i] = 1\n",
    "  states[str(tmp)] = file[f\"{tmp}\"]"
   ]
  },
  {
   "cell_type": "code",
   "execution_count": 32,
   "metadata": {},
   "outputs": [
    {
     "name": "stdout",
     "output_type": "stream",
     "text": [
      "[0. 0. 0. 0. 0. 0. 0. 0. 0. 0. 1. 0. 0. 0. 0. 0.] 0.19405307910735647\n"
     ]
    },
    {
     "data": {
      "text/plain": [
       "{'[1. 0. 0. 0. 0. 0. 0. 0. 0. 0. 0. 0. 0. 0. 0. 0.]': 0.16508991516515165,\n",
       " '[0. 1. 0. 0. 0. 0. 0. 0. 0. 0. 0. 0. 0. 0. 0. 0.]': 0.12919968119043126,\n",
       " '[0. 0. 1. 0. 0. 0. 0. 0. 0. 0. 0. 0. 0. 0. 0. 0.]': 0.16538601002325623,\n",
       " '[0. 0. 0. 1. 0. 0. 0. 0. 0. 0. 0. 0. 0. 0. 0. 0.]': 0.16904906608536033,\n",
       " '[0. 0. 0. 0. 1. 0. 0. 0. 0. 0. 0. 0. 0. 0. 0. 0.]': 0.12396651958214765,\n",
       " '[0. 0. 0. 0. 0. 1. 0. 0. 0. 0. 0. 0. 0. 0. 0. 0.]': 0.16728618049242036,\n",
       " '[0. 0. 0. 0. 0. 0. 1. 0. 0. 0. 0. 0. 0. 0. 0. 0.]': 0.16673417387145334,\n",
       " '[0. 0. 0. 0. 0. 0. 0. 1. 0. 0. 0. 0. 0. 0. 0. 0.]': 0.15796518668448906,\n",
       " '[0. 0. 0. 0. 0. 0. 0. 0. 1. 0. 0. 0. 0. 0. 0. 0.]': 0.12995077772422636,\n",
       " '[0. 0. 0. 0. 0. 0. 0. 0. 0. 1. 0. 0. 0. 0. 0. 0.]': 0.13785536989610436,\n",
       " '[0. 0. 0. 0. 0. 0. 0. 0. 0. 0. 1. 0. 0. 0. 0. 0.]': 0.19405307910735647,\n",
       " '[0. 0. 0. 0. 0. 0. 0. 0. 0. 0. 0. 1. 0. 0. 0. 0.]': 0.158791250161205,\n",
       " '[0. 0. 0. 0. 0. 0. 0. 0. 0. 0. 0. 0. 1. 0. 0. 0.]': 0.15133352519736507,\n",
       " '[0. 0. 0. 0. 0. 0. 0. 0. 0. 0. 0. 0. 0. 1. 0. 0.]': 0.08761678071248273,\n",
       " '[0. 0. 0. 0. 0. 0. 0. 0. 0. 0. 0. 0. 0. 0. 1. 0.]': 0.15818926924042837,\n",
       " '[0. 0. 0. 0. 0. 0. 0. 0. 0. 0. 0. 0. 0. 0. 0. 1.]': 0.16115785300041474}"
      ]
     },
     "execution_count": 32,
     "metadata": {},
     "output_type": "execute_result"
    }
   ],
   "source": [
    "for key, value in states.items():\n",
    "  if value == max(states.values()):\n",
    "    print(key, value)\n",
    "    break\n",
    "  \n",
    "states\n"
   ]
  }
 ],
 "metadata": {
  "kernelspec": {
   "display_name": "Python 3",
   "language": "python",
   "name": "python3"
  },
  "language_info": {
   "codemirror_mode": {
    "name": "ipython",
    "version": 3
   },
   "file_extension": ".py",
   "mimetype": "text/x-python",
   "name": "python",
   "nbconvert_exporter": "python",
   "pygments_lexer": "ipython3",
   "version": "3.9.2"
  },
  "orig_nbformat": 4
 },
 "nbformat": 4,
 "nbformat_minor": 2
}
