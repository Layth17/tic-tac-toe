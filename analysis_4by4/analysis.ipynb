{
 "cells": [
  {
   "cell_type": "code",
   "execution_count": 1,
   "metadata": {},
   "outputs": [],
   "source": [
    "import matplotlib.pyplot as plt\n",
    "import json\n",
    "import numpy as np\n",
    "import ast"
   ]
  },
  {
   "cell_type": "code",
   "execution_count": 4,
   "metadata": {},
   "outputs": [
    {
     "name": "stdout",
     "output_type": "stream",
     "text": [
      "total games: 200000\n",
      "unique games: 31113\n"
     ]
    }
   ],
   "source": [
    "file = open(\"../policies/4/logs_1382023_171526/board.txt\")\n",
    "games = {}\n",
    "\n",
    "content = file.readlines()\n",
    "for i in range(0, len(content), 10):\n",
    "  key = str(content[i:i+10])\n",
    "  if key in games: games[key] += 1\n",
    "  else: games[key] = 1\n",
    "  \n",
    "# verify that there are 50,000 games, or however many you expect\n",
    "total_games = 0\n",
    "unique_games = 0\n",
    "for _, value in games.items():\n",
    "  unique_games += 1\n",
    "  total_games += value\n",
    "print(\"total games:\", total_games)\n",
    "print(\"unique games:\", unique_games)\n",
    "\n",
    "# Serializing json  \n",
    "jsonObj = json.dumps(games, indent=4)\n",
    "with open(\"games.json\", \"wt\") as outfile:\n",
    "    outfile.write(jsonObj)"
   ]
  },
  {
   "cell_type": "markdown",
   "metadata": {},
   "source": [
    "In 3x3 games, .017 of games were unique. If we follow a similar pattern, we need about 2,000,000 games to reach the same proportion.\n",
    "200,000 iterations took an hour of training. 2,000,000 will take 10 hours."
   ]
  },
  {
   "cell_type": "markdown",
   "metadata": {},
   "source": []
  }
 ],
 "metadata": {
  "kernelspec": {
   "display_name": "Python 3",
   "language": "python",
   "name": "python3"
  },
  "language_info": {
   "codemirror_mode": {
    "name": "ipython",
    "version": 3
   },
   "file_extension": ".py",
   "mimetype": "text/x-python",
   "name": "python",
   "nbconvert_exporter": "python",
   "pygments_lexer": "ipython3",
   "version": "3.9.2"
  },
  "orig_nbformat": 4
 },
 "nbformat": 4,
 "nbformat_minor": 2
}
